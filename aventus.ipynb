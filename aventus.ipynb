{
  "nbformat": 4,
  "nbformat_minor": 0,
  "metadata": {
    "colab": {
      "provenance": [],
      "gpuType": "T4",
      "mount_file_id": "1waMYZqoX5POGvZeZEPIwRsxVl0LsQGbl",
      "authorship_tag": "ABX9TyMS/6ii2Ip4aVhMGwredSTG",
      "include_colab_link": true
    },
    "kernelspec": {
      "name": "python3",
      "display_name": "Python 3"
    },
    "language_info": {
      "name": "python"
    },
    "accelerator": "GPU"
  },
  "cells": [
    {
      "cell_type": "markdown",
      "metadata": {
        "id": "view-in-github",
        "colab_type": "text"
      },
      "source": [
        "<a href=\"https://colab.research.google.com/github/itsCheithanya/Aventus/blob/cluster(-1)/aventus.ipynb\" target=\"_parent\"><img src=\"https://colab.research.google.com/assets/colab-badge.svg\" alt=\"Open In Colab\"/></a>"
      ]
    },
    {
      "cell_type": "code",
      "execution_count": 41,
      "metadata": {
        "colab": {
          "base_uri": "https://localhost:8080/"
        },
        "id": "sGlbmqTMuA0X",
        "outputId": "93652abc-96ad-441c-a9eb-112325893c92"
      },
      "outputs": [
        {
          "output_type": "stream",
          "name": "stdout",
          "text": [
            "Drive already mounted at /content/drive; to attempt to forcibly remount, call drive.mount(\"/content/drive\", force_remount=True).\n"
          ]
        }
      ],
      "source": [
        "from google.colab import drive\n",
        "drive.mount('/content/drive')"
      ]
    },
    {
      "cell_type": "code",
      "source": [
        "import pandas as pd\n",
        "df=pd.read_csv('/content/cluster_datasets/cluster_-1.csv')"
      ],
      "metadata": {
        "id": "nnG_7ollvRyV"
      },
      "execution_count": 47,
      "outputs": []
    },
    {
      "cell_type": "code",
      "source": [
        "print(df.columns)\n",
        "df = df.drop(0)\n",
        "\n",
        "# Save the modified DataFrame to a new file\n",
        "df.to_csv('modified_dataset.csv', index=False) \n"
      ],
      "metadata": {
        "colab": {
          "base_uri": "https://localhost:8080/"
        },
        "id": "VkNr8CrrvW9e",
        "outputId": "0f6f8dc6-979b-465c-852d-ceaa7e41751a"
      },
      "execution_count": null,
      "outputs": [
        {
          "metadata": {
            "tags": null
          },
          "name": "stdout",
          "output_type": "stream",
          "text": [
            "Index(['Unique ID', 'Age', 'Gender', 'BCLOT', 'A/G RAT', 'DBIL', 'IBIL',\n",
            "       'TBIL', 'TGLO', 'TREP', 'ALB', 'GGT', 'SGOT', 'SGPT', 'ALKPO4'],\n",
            "      dtype='object')\n"
          ]
        }
      ]
    },
    {
      "cell_type": "code",
      "source": [
        "import numpy as np\n",
        "\n",
        "from sklearn.preprocessing import StandardScaler\n",
        "import matplotlib.pyplot as plt\n",
        "%matplotlib inline"
      ],
      "metadata": {
        "id": "LhPVLvimwvSG"
      },
      "execution_count": null,
      "outputs": []
    },
    {
      "cell_type": "code",
      "source": [
        "from sklearn.neighbors import NearestNeighbors\n",
        "features = ['BCLOT', 'A/G RAT',\n",
        "       'TBIL', 'TREP', 'GGT', 'SGOT', 'SGPT', 'ALKPO4']\n",
        "\n",
        "# Perform feature scaling\n",
        "scaler = StandardScaler()\n",
        "scaled_features = pd.DataFrame(scaler.fit_transform(df[features]))\n",
        "scaled_features.columns=features"
      ],
      "metadata": {
        "id": "hPy2-T9OwS7b"
      },
      "execution_count": 56,
      "outputs": []
    },
    {
      "cell_type": "code",
      "source": [
        "from sklearn.cluster import DBSCAN"
      ],
      "metadata": {
        "id": "hCo90XqkxmpV"
      },
      "execution_count": 57,
      "outputs": []
    },
    {
      "cell_type": "code",
      "source": [
        "\n",
        "model = DBSCAN(eps = 0.2, min_samples = 16)\n",
        "cluster_labels = model.fit_predict(scaled_features)"
      ],
      "metadata": {
        "id": "LM_6AqMDxchR"
      },
      "execution_count": 68,
      "outputs": []
    },
    {
      "cell_type": "markdown",
      "source": [],
      "metadata": {
        "id": "iz-2_1Kmk0Yy"
      }
    },
    {
      "cell_type": "code",
      "source": [
        "df['Cluster-1'] = cluster_labels\n",
        "for cluster in sorted(df['Cluster-1'].unique()):\n",
        "    cluster_data = df[df['Cluster-1'] == cluster]\n",
        "    cluster_size = len(cluster_data)\n",
        "    \n",
        "    print(f\"Cluster-1{cluster} - Size: {cluster_size}\")\n",
        "from sklearn.decomposition import PCA\n",
        "pca = PCA(n_components=2)\n",
        "pca_features = pca.fit_transform(scaled_features)\n",
        "\n",
        "# Create a scatter plot of the clusters\n",
        "plt.scatter(pca_features[:, 0], pca_features[:, 1], c=cluster_labels+2)\n",
        "plt.xlabel('Principal Component 1')\n",
        "plt.ylabel('Principal Component 2')\n",
        "plt.title('DBSCAN Clustering Results')\n",
        "plt.show()"
      ],
      "metadata": {
        "id": "TnPzv0bjOVTv",
        "colab": {
          "base_uri": "https://localhost:8080/",
          "height": 489
        },
        "outputId": "ba44c979-7409-4536-d808-ee9b2313bc2b"
      },
      "execution_count": 69,
      "outputs": [
        {
          "output_type": "stream",
          "name": "stdout",
          "text": [
            "Cluster-1-1 - Size: 45968\n"
          ]
        },
        {
          "output_type": "display_data",
          "data": {
            "text/plain": [
              "<Figure size 640x480 with 1 Axes>"
            ],
            "image/png": "[encoded data removed]"
          },
          "metadata": {}
        }
      ]
    },
    {
      "cell_type": "code",
      "source": [
        "df.head(5)"
      ],
      "metadata": {
        "id": "MQEDq4GFnVpx",
        "outputId": "1f452f9f-0e1b-466b-c248-99c8a48871e1",
        "colab": {
          "base_uri": "https://localhost:8080/",
          "height": 206
        }
      },
      "execution_count": 11,
      "outputs": [
        {
          "data": {
            "text/html": [
              "\n",
              "  <div id=\"df-f15beb4b-83e3-4292-b7f0-d6f79b059f38\">\n",
              "    <div class=\"colab-df-container\">\n",
              "      <div>\n",
              "<style scoped>\n",
              "    .dataframe tbody tr th:only-of-type {\n",
              "        vertical-align: middle;\n",
              "    }\n",
              "\n",
              "    .dataframe tbody tr th {\n",
              "        vertical-align: top;\n",
              "    }\n",
              "\n",
              "    .dataframe thead th {\n",
              "        text-align: right;\n",
              "    }\n",
              "</style>\n",
              "<table border=\"1\" class=\"dataframe\">\n",
              "  <thead>\n",
              "    <tr style=\"text-align: right;\">\n",
              "      <th></th>\n",
              "      <th>BCLOT</th>\n",
              "      <th>A/G RAT</th>\n",
              "      <th>TBIL</th>\n",
              "      <th>TREP</th>\n",
              "      <th>GGT</th>\n",
              "      <th>SGOT</th>\n",
              "      <th>SGPT</th>\n",
              "      <th>ALKPO4</th>\n",
              "      <th>Cluster</th>\n",
              "    </tr>\n",
              "  </thead>\n",
              "  <tbody>\n",
              "    <tr>\n",
              "      <th>0</th>\n",
              "      <td>358.0</td>\n",
              "      <td>1.15</td>\n",
              "      <td>1.20</td>\n",
              "      <td>7.3</td>\n",
              "      <td>25.0</td>\n",
              "      <td>26.0</td>\n",
              "      <td>32.0</td>\n",
              "      <td>58.0</td>\n",
              "      <td>0</td>\n",
              "    </tr>\n",
              "    <tr>\n",
              "      <th>1</th>\n",
              "      <td>172.0</td>\n",
              "      <td>1.85</td>\n",
              "      <td>1.10</td>\n",
              "      <td>6.9</td>\n",
              "      <td>20.0</td>\n",
              "      <td>27.0</td>\n",
              "      <td>30.0</td>\n",
              "      <td>61.0</td>\n",
              "      <td>0</td>\n",
              "    </tr>\n",
              "    <tr>\n",
              "      <th>2</th>\n",
              "      <td>166.0</td>\n",
              "      <td>1.48</td>\n",
              "      <td>0.31</td>\n",
              "      <td>7.0</td>\n",
              "      <td>16.0</td>\n",
              "      <td>28.0</td>\n",
              "      <td>36.0</td>\n",
              "      <td>97.0</td>\n",
              "      <td>0</td>\n",
              "    </tr>\n",
              "    <tr>\n",
              "      <th>3</th>\n",
              "      <td>213.0</td>\n",
              "      <td>1.26</td>\n",
              "      <td>0.60</td>\n",
              "      <td>7.9</td>\n",
              "      <td>16.0</td>\n",
              "      <td>20.0</td>\n",
              "      <td>28.0</td>\n",
              "      <td>89.0</td>\n",
              "      <td>0</td>\n",
              "    </tr>\n",
              "    <tr>\n",
              "      <th>4</th>\n",
              "      <td>187.0</td>\n",
              "      <td>1.24</td>\n",
              "      <td>0.28</td>\n",
              "      <td>7.8</td>\n",
              "      <td>39.0</td>\n",
              "      <td>20.0</td>\n",
              "      <td>18.0</td>\n",
              "      <td>105.0</td>\n",
              "      <td>0</td>\n",
              "    </tr>\n",
              "  </tbody>\n",
              "</table>\n",
              "</div>\n",
              "      <button class=\"colab-df-convert\" onclick=\"convertToInteractive('df-f15beb4b-83e3-4292-b7f0-d6f79b059f38')\"\n",
              "              title=\"Convert this dataframe to an interactive table.\"\n",
              "              style=\"display:none;\">\n",
              "        \n",
              "  <svg xmlns=\"http://www.w3.org/2000/svg\" height=\"24px\"viewBox=\"0 0 24 24\"\n",
              "       width=\"24px\">\n",
              "    <path d=\"M0 0h24v24H0V0z\" fill=\"none\"/>\n",
              "    <path d=\"M18.56 5.44l.94 2.06.94-2.06 2.06-.94-2.06-.94-.94-2.06-.94 2.06-2.06.94zm-11 1L8.5 8.5l.94-2.06 2.06-.94-2.06-.94L8.5 2.5l-.94 2.06-2.06.94zm10 10l.94 2.06.94-2.06 2.06-.94-2.06-.94-.94-2.06-.94 2.06-2.06.94z\"/><path d=\"M17.41 7.96l-1.37-1.37c-.4-.4-.92-.59-1.43-.59-.52 0-1.04.2-1.43.59L10.3 9.45l-7.72 7.72c-.78.78-.78 2.05 0 2.83L4 21.41c.39.39.9.59 1.41.59.51 0 1.02-.2 1.41-.59l7.78-7.78 2.81-2.81c.8-.78.8-2.07 0-2.86zM5.41 20L4 18.59l7.72-7.72 1.47 1.35L5.41 20z\"/>\n",
              "  </svg>\n",
              "      </button>\n",
              "      \n",
              "  <style>\n",
              "    .colab-df-container {\n",
              "      display:flex;\n",
              "      flex-wrap:wrap;\n",
              "      gap: 12px;\n",
              "    }\n",
              "\n",
              "    .colab-df-convert {\n",
              "      background-color: #E8F0FE;\n",
              "      border: none;\n",
              "      border-radius: 50%;\n",
              "      cursor: pointer;\n",
              "      display: none;\n",
              "      fill: #1967D2;\n",
              "      height: 32px;\n",
              "      padding: 0 0 0 0;\n",
              "      width: 32px;\n",
              "    }\n",
              "\n",
              "    .colab-df-convert:hover {\n",
              "      background-color: #E2EBFA;\n",
              "      box-shadow: 0px 1px 2px rgba(60, 64, 67, 0.3), 0px 1px 3px 1px rgba(60, 64, 67, 0.15);\n",
              "      fill: #174EA6;\n",
              "    }\n",
              "\n",
              "    [theme=dark] .colab-df-convert {\n",
              "      background-color: #3B4455;\n",
              "      fill: #D2E3FC;\n",
              "    }\n",
              "\n",
              "    [theme=dark] .colab-df-convert:hover {\n",
              "      background-color: #434B5C;\n",
              "      box-shadow: 0px 1px 3px 1px rgba(0, 0, 0, 0.15);\n",
              "      filter: drop-shadow(0px 1px 2px rgba(0, 0, 0, 0.3));\n",
              "      fill: #FFFFFF;\n",
              "    }\n",
              "  </style>\n",
              "\n",
              "      <script>\n",
              "        const buttonEl =\n",
              "          document.querySelector('#df-f15beb4b-83e3-4292-b7f0-d6f79b059f38 button.colab-df-convert');\n",
              "        buttonEl.style.display =\n",
              "          google.colab.kernel.accessAllowed ? 'block' : 'none';\n",
              "\n",
              "        async function convertToInteractive(key) {\n",
              "          const element = document.querySelector('#df-f15beb4b-83e3-4292-b7f0-d6f79b059f38');\n",
              "          const dataTable =\n",
              "            await google.colab.kernel.invokeFunction('convertToInteractive',\n",
              "                                                     [key], {});\n",
              "          if (!dataTable) return;\n",
              "\n",
              "          const docLinkHtml = 'Like what you see? Visit the ' +\n",
              "            '<a target=\"_blank\" href=https://colab.research.google.com/notebooks/data_table.ipynb>data table notebook</a>'\n",
              "            + ' to learn more about interactive tables.';\n",
              "          element.innerHTML = '';\n",
              "          dataTable['output_type'] = 'display_data';\n",
              "          await google.colab.output.renderOutput(dataTable, element);\n",
              "          const docLink = document.createElement('div');\n",
              "          docLink.innerHTML = docLinkHtml;\n",
              "          element.appendChild(docLink);\n",
              "        }\n",
              "      </script>\n",
              "    </div>\n",
              "  </div>\n",
              "  "
            ],
            "text/plain": [
              "   BCLOT  A/G RAT  TBIL  TREP   GGT  SGOT  SGPT  ALKPO4  Cluster\n",
              "0  358.0     1.15  1.20   7.3  25.0  26.0  32.0    58.0        0\n",
              "1  172.0     1.85  1.10   6.9  20.0  27.0  30.0    61.0        0\n",
              "2  166.0     1.48  0.31   7.0  16.0  28.0  36.0    97.0        0\n",
              "3  213.0     1.26  0.60   7.9  16.0  20.0  28.0    89.0        0\n",
              "4  187.0     1.24  0.28   7.8  39.0  20.0  18.0   105.0        0"
            ]
          },
          "execution_count": 11,
          "metadata": {},
          "output_type": "execute_result"
        }
      ]
    },
    {
      "cell_type": "code",
      "source": [
        "df.tail(5)"
      ],
      "metadata": {
        "id": "JO63AU5hnepV",
        "outputId": "d8e52133-f8d0-442d-8e1a-85f76be38ef3",
        "colab": {
          "base_uri": "https://localhost:8080/",
          "height": 206
        }
      },
      "execution_count": 12,
      "outputs": [
        {
          "data": {
            "text/html": [
              "\n",
              "  <div id=\"df-2ec26977-3742-4654-bf11-258946d7fffc\">\n",
              "    <div class=\"colab-df-container\">\n",
              "      <div>\n",
              "<style scoped>\n",
              "    .dataframe tbody tr th:only-of-type {\n",
              "        vertical-align: middle;\n",
              "    }\n",
              "\n",
              "    .dataframe tbody tr th {\n",
              "        vertical-align: top;\n",
              "    }\n",
              "\n",
              "    .dataframe thead th {\n",
              "        text-align: right;\n",
              "    }\n",
              "</style>\n",
              "<table border=\"1\" class=\"dataframe\">\n",
              "  <thead>\n",
              "    <tr style=\"text-align: right;\">\n",
              "      <th></th>\n",
              "      <th>BCLOT</th>\n",
              "      <th>A/G RAT</th>\n",
              "      <th>TBIL</th>\n",
              "      <th>TREP</th>\n",
              "      <th>GGT</th>\n",
              "      <th>SGOT</th>\n",
              "      <th>SGPT</th>\n",
              "      <th>ALKPO4</th>\n",
              "      <th>Cluster</th>\n",
              "    </tr>\n",
              "  </thead>\n",
              "  <tbody>\n",
              "    <tr>\n",
              "      <th>331561</th>\n",
              "      <td>142.0</td>\n",
              "      <td>1.62</td>\n",
              "      <td>0.53</td>\n",
              "      <td>6.8</td>\n",
              "      <td>20.0</td>\n",
              "      <td>21.0</td>\n",
              "      <td>22.0</td>\n",
              "      <td>69.0</td>\n",
              "      <td>0</td>\n",
              "    </tr>\n",
              "    <tr>\n",
              "      <th>331562</th>\n",
              "      <td>166.0</td>\n",
              "      <td>1.36</td>\n",
              "      <td>0.34</td>\n",
              "      <td>9.2</td>\n",
              "      <td>164.0</td>\n",
              "      <td>37.0</td>\n",
              "      <td>39.0</td>\n",
              "      <td>123.0</td>\n",
              "      <td>-1</td>\n",
              "    </tr>\n",
              "    <tr>\n",
              "      <th>331563</th>\n",
              "      <td>219.0</td>\n",
              "      <td>1.41</td>\n",
              "      <td>0.34</td>\n",
              "      <td>7.1</td>\n",
              "      <td>25.0</td>\n",
              "      <td>40.0</td>\n",
              "      <td>60.0</td>\n",
              "      <td>65.0</td>\n",
              "      <td>0</td>\n",
              "    </tr>\n",
              "    <tr>\n",
              "      <th>331564</th>\n",
              "      <td>148.0</td>\n",
              "      <td>2.63</td>\n",
              "      <td>0.62</td>\n",
              "      <td>6.1</td>\n",
              "      <td>55.0</td>\n",
              "      <td>27.0</td>\n",
              "      <td>24.0</td>\n",
              "      <td>45.0</td>\n",
              "      <td>-1</td>\n",
              "    </tr>\n",
              "    <tr>\n",
              "      <th>331565</th>\n",
              "      <td>186.0</td>\n",
              "      <td>1.79</td>\n",
              "      <td>0.32</td>\n",
              "      <td>6.7</td>\n",
              "      <td>25.0</td>\n",
              "      <td>27.0</td>\n",
              "      <td>22.0</td>\n",
              "      <td>53.0</td>\n",
              "      <td>0</td>\n",
              "    </tr>\n",
              "  </tbody>\n",
              "</table>\n",
              "</div>\n",
              "      <button class=\"colab-df-convert\" onclick=\"convertToInteractive('df-2ec26977-3742-4654-bf11-258946d7fffc')\"\n",
              "              title=\"Convert this dataframe to an interactive table.\"\n",
              "              style=\"display:none;\">\n",
              "        \n",
              "  <svg xmlns=\"http://www.w3.org/2000/svg\" height=\"24px\"viewBox=\"0 0 24 24\"\n",
              "       width=\"24px\">\n",
              "    <path d=\"M0 0h24v24H0V0z\" fill=\"none\"/>\n",
              "    <path d=\"M18.56 5.44l.94 2.06.94-2.06 2.06-.94-2.06-.94-.94-2.06-.94 2.06-2.06.94zm-11 1L8.5 8.5l.94-2.06 2.06-.94-2.06-.94L8.5 2.5l-.94 2.06-2.06.94zm10 10l.94 2.06.94-2.06 2.06-.94-2.06-.94-.94-2.06-.94 2.06-2.06.94z\"/><path d=\"M17.41 7.96l-1.37-1.37c-.4-.4-.92-.59-1.43-.59-.52 0-1.04.2-1.43.59L10.3 9.45l-7.72 7.72c-.78.78-.78 2.05 0 2.83L4 21.41c.39.39.9.59 1.41.59.51 0 1.02-.2 1.41-.59l7.78-7.78 2.81-2.81c.8-.78.8-2.07 0-2.86zM5.41 20L4 18.59l7.72-7.72 1.47 1.35L5.41 20z\"/>\n",
              "  </svg>\n",
              "      </button>\n",
              "      \n",
              "  <style>\n",
              "    .colab-df-container {\n",
              "      display:flex;\n",
              "      flex-wrap:wrap;\n",
              "      gap: 12px;\n",
              "    }\n",
              "\n",
              "    .colab-df-convert {\n",
              "      background-color: #E8F0FE;\n",
              "      border: none;\n",
              "      border-radius: 50%;\n",
              "      cursor: pointer;\n",
              "      display: none;\n",
              "      fill: #1967D2;\n",
              "      height: 32px;\n",
              "      padding: 0 0 0 0;\n",
              "      width: 32px;\n",
              "    }\n",
              "\n",
              "    .colab-df-convert:hover {\n",
              "      background-color: #E2EBFA;\n",
              "      box-shadow: 0px 1px 2px rgba(60, 64, 67, 0.3), 0px 1px 3px 1px rgba(60, 64, 67, 0.15);\n",
              "      fill: #174EA6;\n",
              "    }\n",
              "\n",
              "    [theme=dark] .colab-df-convert {\n",
              "      background-color: #3B4455;\n",
              "      fill: #D2E3FC;\n",
              "    }\n",
              "\n",
              "    [theme=dark] .colab-df-convert:hover {\n",
              "      background-color: #434B5C;\n",
              "      box-shadow: 0px 1px 3px 1px rgba(0, 0, 0, 0.15);\n",
              "      filter: drop-shadow(0px 1px 2px rgba(0, 0, 0, 0.3));\n",
              "      fill: #FFFFFF;\n",
              "    }\n",
              "  </style>\n",
              "\n",
              "      <script>\n",
              "        const buttonEl =\n",
              "          document.querySelector('#df-2ec26977-3742-4654-bf11-258946d7fffc button.colab-df-convert');\n",
              "        buttonEl.style.display =\n",
              "          google.colab.kernel.accessAllowed ? 'block' : 'none';\n",
              "\n",
              "        async function convertToInteractive(key) {\n",
              "          const element = document.querySelector('#df-2ec26977-3742-4654-bf11-258946d7fffc');\n",
              "          const dataTable =\n",
              "            await google.colab.kernel.invokeFunction('convertToInteractive',\n",
              "                                                     [key], {});\n",
              "          if (!dataTable) return;\n",
              "\n",
              "          const docLinkHtml = 'Like what you see? Visit the ' +\n",
              "            '<a target=\"_blank\" href=https://colab.research.google.com/notebooks/data_table.ipynb>data table notebook</a>'\n",
              "            + ' to learn more about interactive tables.';\n",
              "          element.innerHTML = '';\n",
              "          dataTable['output_type'] = 'display_data';\n",
              "          await google.colab.output.renderOutput(dataTable, element);\n",
              "          const docLink = document.createElement('div');\n",
              "          docLink.innerHTML = docLinkHtml;\n",
              "          element.appendChild(docLink);\n",
              "        }\n",
              "      </script>\n",
              "    </div>\n",
              "  </div>\n",
              "  "
            ],
            "text/plain": [
              "        BCLOT  A/G RAT  TBIL  TREP    GGT  SGOT  SGPT  ALKPO4  Cluster\n",
              "331561  142.0     1.62  0.53   6.8   20.0  21.0  22.0    69.0        0\n",
              "331562  166.0     1.36  0.34   9.2  164.0  37.0  39.0   123.0       -1\n",
              "331563  219.0     1.41  0.34   7.1   25.0  40.0  60.0    65.0        0\n",
              "331564  148.0     2.63  0.62   6.1   55.0  27.0  24.0    45.0       -1\n",
              "331565  186.0     1.79  0.32   6.7   25.0  27.0  22.0    53.0        0"
            ]
          },
          "execution_count": 12,
          "metadata": {},
          "output_type": "execute_result"
        }
      ]
    },
    {
      "cell_type": "code",
      "source": [
        "\n",
        "  "
      ],
      "metadata": {
        "id": "YGGrKh1-nr8x"
      },
      "execution_count": 12,
      "outputs": []
    },
    {
      "cell_type": "code",
      "source": [
        "# Calculate the mean of each cluster\n",
        "cluster_means = []\n",
        "for cluster in sorted(df['Cluster'].unique()):\n",
        "    cluster_data = df[df['Cluster'] == cluster]\n",
        "    cluster_mean = np.median(cluster_data, axis=0)\n",
        "    cluster_means.append(cluster_mean)\n",
        "\n",
        "# Print the cluster means\n",
        "for i, cluster_mean in enumerate(cluster_means):\n",
        "    print(f\"Cluster {i} Median: {cluster_mean}\")"
      ],
      "metadata": {
        "id": "ZGcBPoQ0mzB5",
        "outputId": "8ff57586-22df-45a0-b139-9dde3556dab8",
        "colab": {
          "base_uri": "https://localhost:8080/"
        }
      },
      "execution_count": null,
      "outputs": [
        {
          "output_type": "stream",
          "name": "stdout",
          "text": [
            "Cluster 0 Median: [172.1    1.45   0.8    7.    59.    40.8   43.   113.    -1.  ]\n",
            "Cluster 1 Median: [180.     1.6    0.59   7.17  21.    22.2   24.    81.     0.  ]\n",
            "Cluster 2 Median: [0. 0. 0. 0. 0. 0. 0. 0. 1.]\n",
            "Cluster 3 Median: [161.      1.82    0.455   7.2    13.     24.     18.    357.      2.   ]\n",
            "Cluster 0 Median: [172.1    1.45   0.8    7.    59.    40.8   43.   113.    -1.  ]\n",
            "Cluster 1 Median: [180.     1.6    0.59   7.17  21.    22.2   24.    81.     0.  ]\n",
            "Cluster 2 Median: [0. 0. 0. 0. 0. 0. 0. 0. 1.]\n",
            "Cluster 3 Median: [161.      1.82    0.455   7.2    13.     24.     18.    357.      2.   ]\n"
          ]
        }
      ]
    },
    {
      "cell_type": "code",
      "source": [
        "# Calculate the mean of each cluster\n",
        "cluster_means = []\n",
        "for cluster in sorted(df['Cluster'].unique()):\n",
        "    cluster_data = df[df['Cluster'] == cluster]\n",
        "    cluster_mean = np.mean(cluster_data, axis=0)\n",
        "    cluster_means.append(cluster_mean)\n",
        "\n",
        "# Print the cluster means\n",
        "for i, cluster_mean in enumerate(cluster_means):\n",
        "    print(f\"Cluster {i} Mean: {cluster_mean}\")"
      ],
      "metadata": {
        "id": "cVOxaB6spiDI",
        "outputId": "90719fad-437c-46c1-b64a-bb22b8ac54f1",
        "colab": {
          "base_uri": "https://localhost:8080/"
        }
      },
      "execution_count": null,
      "outputs": [
        {
          "output_type": "stream",
          "name": "stdout",
          "text": [
            "Cluster 0 Mean: BCLOT      194.119375\n",
            "A/G RAT      1.518227\n",
            "TBIL         1.479713\n",
            "TREP         6.909638\n",
            "GGT        107.121601\n",
            "SGOT        77.018525\n",
            "SGPT        75.161105\n",
            "ALKPO4     145.346793\n",
            "Cluster     -1.000000\n",
            "dtype: float64\n",
            "Cluster 1 Mean: BCLOT      187.985521\n",
            "A/G RAT      1.617962\n",
            "TBIL         0.664446\n",
            "TREP         7.156114\n",
            "GGT         25.083675\n",
            "SGOT        24.173872\n",
            "SGPT        27.640810\n",
            "ALKPO4      84.739925\n",
            "Cluster      0.000000\n",
            "dtype: float64\n",
            "Cluster 2 Mean: BCLOT      0.0\n",
            "A/G RAT    0.0\n",
            "TBIL       0.0\n",
            "TREP       0.0\n",
            "GGT        0.0\n",
            "SGOT       0.0\n",
            "SGPT       0.0\n",
            "ALKPO4     0.0\n",
            "Cluster    1.0\n",
            "dtype: float64\n",
            "Cluster 3 Mean: BCLOT      160.472727\n",
            "A/G RAT      1.827727\n",
            "TBIL         0.475455\n",
            "TREP         7.209545\n",
            "GGT         14.309091\n",
            "SGOT        25.886364\n",
            "SGPT        18.004545\n",
            "ALKPO4     356.804545\n",
            "Cluster      2.000000\n",
            "dtype: float64\n"
          ]
        }
      ]
    }
  ]
}